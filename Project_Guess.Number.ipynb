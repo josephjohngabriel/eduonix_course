{
 "cells": [
  {
   "cell_type": "code",
   "execution_count": null,
   "metadata": {},
   "outputs": [],
   "source": [
    "import random \n",
    "\n",
    "\n",
    "g_no=int(input(\"how many games would you like to play: \"))\n",
    "try:\n",
    "    if g_no==0:\n",
    "        print (\"Enter a value greater than 0!!\")\n",
    "except:\n",
    "    pass\n",
    "i=1\n",
    "while i<=g_no:\n",
    "    r_no=int(input(\"Enter a random value between 1 and 25: \"))\n",
    "    rand_no=random.randrange(1,25)\n",
    "    if r_no>rand_no:\n",
    "        print(\"%d is a greater number\"%r_no)\n",
    "    elif r_no<rand_no:\n",
    "        print(\"%d is a lower number\"%r_no)\n",
    "    else:\n",
    "        print(\"Correct Answer\")\n",
    "    i+=1\n",
    "\n"
   ]
  },
  {
   "cell_type": "code",
   "execution_count": null,
   "metadata": {},
   "outputs": [],
   "source": []
  }
 ],
 "metadata": {
  "kernelspec": {
   "display_name": "Python 3",
   "language": "python",
   "name": "python3"
  },
  "language_info": {
   "codemirror_mode": {
    "name": "ipython",
    "version": 3
   },
   "file_extension": ".py",
   "mimetype": "text/x-python",
   "name": "python",
   "nbconvert_exporter": "python",
   "pygments_lexer": "ipython3",
   "version": "3.7.4"
  }
 },
 "nbformat": 4,
 "nbformat_minor": 2
}
